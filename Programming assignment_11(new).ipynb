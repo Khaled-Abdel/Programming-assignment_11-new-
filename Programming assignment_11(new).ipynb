{
 "cells": [
  {
   "cell_type": "markdown",
   "metadata": {},
   "source": [
    "#1) write a python program to find words which are greater than given length k?"
   ]
  },
  {
   "cell_type": "code",
   "execution_count": 3,
   "metadata": {},
   "outputs": [
    {
     "name": "stdout",
     "output_type": "stream",
     "text": [
      "Enter the length: 5\n"
     ]
    },
    {
     "data": {
      "text/plain": [
       "['khaled', 'abdelrahman']"
      ]
     },
     "execution_count": 3,
     "metadata": {},
     "output_type": "execute_result"
    }
   ],
   "source": [
    "length = int(input(\"Enter the length: \"))\n",
    "list_name = [\"khaled\",\"ayman\",\"abdelrahman\",\"muhd\"]\n",
    "names = []\n",
    "\n",
    "for name in list_name:\n",
    "    if len(name)> length:\n",
    "        names.append(name)\n",
    "names"
   ]
  },
  {
   "cell_type": "markdown",
   "metadata": {},
   "source": [
    "#2) Write a python program to remove i-th chaaracter from a string?"
   ]
  },
  {
   "cell_type": "code",
   "execution_count": 4,
   "metadata": {},
   "outputs": [
    {
     "name": "stdout",
     "output_type": "stream",
     "text": [
      " Enter the nth number to remove from string, strating from 0: 0\n",
      "bdelrahman\n"
     ]
    }
   ],
   "source": [
    "name = \"Abdelrahman\"\n",
    "remove = int(input(\" Enter the nth number to remove from string, strating from 0: \"))\n",
    "\n",
    "for i in name:\n",
    "    if i ==name[remove]:\n",
    "        print(name.replace(i,\"\"))"
   ]
  },
  {
   "cell_type": "markdown",
   "metadata": {},
   "source": [
    "#3) Write a python program to split and join a string\n"
   ]
  },
  {
   "cell_type": "code",
   "execution_count": 5,
   "metadata": {},
   "outputs": [
    {
     "data": {
      "text/plain": [
       "'khaled+abdelrahman'"
      ]
     },
     "execution_count": 5,
     "metadata": {},
     "output_type": "execute_result"
    }
   ],
   "source": [
    "string = \"khaled abdelrahman\"\n",
    "x= string.split()\n",
    "\"+\".join(x)"
   ]
  },
  {
   "cell_type": "markdown",
   "metadata": {},
   "source": [
    "#4) Write a Python to check if a given string is binary string or not?"
   ]
  },
  {
   "cell_type": "code",
   "execution_count": 10,
   "metadata": {},
   "outputs": [
    {
     "name": "stdout",
     "output_type": "stream",
     "text": [
      "it is a binary string\n"
     ]
    }
   ],
   "source": [
    "string = \"1010010101\"\n",
    "string = set(string)\n",
    "st_binary = {\"1\",\"0\"}\n",
    "\n",
    "if st_binary == string:\n",
    "    print(\"it is a binary string\")\n",
    "else:\n",
    "    print(\"it is not a binary string\")"
   ]
  },
  {
   "cell_type": "markdown",
   "metadata": {},
   "source": [
    "#5) Write a Python program to find uncommon words from two Strings?"
   ]
  },
  {
   "cell_type": "code",
   "execution_count": 28,
   "metadata": {},
   "outputs": [
    {
     "name": "stdout",
     "output_type": "stream",
     "text": [
      "the uncommon words from the two strings are:  ['ayman', 'data', 'science', 'also', 'mechanical', 'engineering']\n"
     ]
    }
   ],
   "source": [
    "str1 = \"My name is khaled ayman and I am studying data science\"\n",
    "str2 = \"My name is also khaled and I am studying mechanical engineering\"\n",
    "str1 = str1.split()\n",
    "str2 = str2.split()\n",
    "\n",
    "uncommon_words = []\n",
    "\n",
    "def uw(str1, str2):\n",
    "    for i in str1:\n",
    "        if i not in str2:\n",
    "            uncommon_words.append(i)\n",
    "            \n",
    "    for y in str2:\n",
    "        if y not in str1:\n",
    "            uncommon_words.append(y)\n",
    "            \n",
    "    return uncommon_words\n",
    "\n",
    "\n",
    "print(\"the uncommon words from the two strings are: \",uw(str1, str2))"
   ]
  },
  {
   "cell_type": "markdown",
   "metadata": {},
   "source": [
    "#6) Write a Python to find all duplicate characters in string?"
   ]
  },
  {
   "cell_type": "code",
   "execution_count": 44,
   "metadata": {},
   "outputs": [
    {
     "name": "stdout",
     "output_type": "stream",
     "text": [
      "All the duplicate characters in a string are:  ['h', 'a', 'l', 'e', 'd']\n"
     ]
    }
   ],
   "source": [
    "string = \"khaled abdelrahman\"\n",
    "\n",
    "list_cara = []\n",
    "\n",
    "for i in range(len(string)):\n",
    "    for y in range(i+1,len(string)):\n",
    "        if string[i] == string[y]:\n",
    "            if string[i] not in list_cara:\n",
    "                list_cara.append(string[i])\n",
    "                \n",
    "print(\"All the duplicate characters in a string are: \", list_cara)\n",
    "        \n",
    "    "
   ]
  },
  {
   "cell_type": "markdown",
   "metadata": {},
   "source": [
    "#7) Write a Python Program to check if a string contains any special character?"
   ]
  },
  {
   "cell_type": "code",
   "execution_count": 67,
   "metadata": {},
   "outputs": [
    {
     "name": "stdout",
     "output_type": "stream",
     "text": [
      "Enter your string to check if it has special characters: khaled!?\n",
      "There is a special Character in the string\n"
     ]
    }
   ],
   "source": [
    "#) to search for (regual expression)\n",
    "import re\n",
    "\n",
    "check_str = input(\"Enter your string to check if it has special characters: \")\n",
    "\n",
    "speical_cara = re.compile(\"[!@#$%^&*_+=-~`\\|'\"\":;/?>.<,]\")\n",
    "\n",
    "if speical_cara.search(check_str)== None:\n",
    "    print(\"There is not a special Character in the string\")\n",
    "else:\n",
    "    print(\"There is a special Character in the string\")\n",
    "    "
   ]
  },
  {
   "cell_type": "code",
   "execution_count": null,
   "metadata": {},
   "outputs": [],
   "source": []
  },
  {
   "cell_type": "code",
   "execution_count": null,
   "metadata": {},
   "outputs": [],
   "source": []
  },
  {
   "cell_type": "code",
   "execution_count": null,
   "metadata": {},
   "outputs": [],
   "source": []
  }
 ],
 "metadata": {
  "kernelspec": {
   "display_name": "Python 3",
   "language": "python",
   "name": "python3"
  },
  "language_info": {
   "codemirror_mode": {
    "name": "ipython",
    "version": 3
   },
   "file_extension": ".py",
   "mimetype": "text/x-python",
   "name": "python",
   "nbconvert_exporter": "python",
   "pygments_lexer": "ipython3",
   "version": "3.8.5"
  }
 },
 "nbformat": 4,
 "nbformat_minor": 4
}
